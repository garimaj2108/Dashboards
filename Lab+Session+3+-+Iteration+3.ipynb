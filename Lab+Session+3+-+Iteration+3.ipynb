{
 "cells": [
  {
   "cell_type": "code",
   "execution_count": 1,
   "metadata": {
    "collapsed": true
   },
   "outputs": [],
   "source": [
    "import pandas as pd\n",
    "import json\n",
    "import requests\n",
    "import urllib\n",
    "import datetime as dt\n",
    "import pandas_datareader as pdr"
   ]
  },
  {
   "cell_type": "code",
   "execution_count": 2,
   "metadata": {
    "collapsed": true
   },
   "outputs": [],
   "source": [
    "security_breaches = pd.read_csv('/Users/garimajain/Desktop/SecurityBreaches-7.csv')"
   ]
  },
  {
   "cell_type": "code",
   "execution_count": 3,
   "metadata": {
    "collapsed": true
   },
   "outputs": [],
   "source": [
    "df1 = security_breaches.iloc[1:]"
   ]
  },
  {
   "cell_type": "code",
   "execution_count": 4,
   "metadata": {
    "collapsed": true
   },
   "outputs": [],
   "source": [
    "breach_data = df1.to_csv(\"Lab3\")"
   ]
  },
  {
   "cell_type": "code",
   "execution_count": 5,
   "metadata": {
    "collapsed": true
   },
   "outputs": [],
   "source": [
    "breaches = pd.read_csv('/Users/garimajain/Desktop/Lab3.csv')"
   ]
  },
  {
   "cell_type": "code",
   "execution_count": 6,
   "metadata": {
    "collapsed": true
   },
   "outputs": [],
   "source": [
    "def get_symbol(company_name):\n",
    "    url = \"http://d.yimg.com/autoc.finance.yahoo.com/autoc?query={}&region=1&lang=en\".format(company_name)\n",
    "\n",
    "    result = requests.get(url).json()\n",
    "\n",
    "    for x in result['ResultSet']['Result']:\n",
    "            return x['symbol']\n",
    "        \n",
    "ticker = []\n",
    "company = breaches.Entity\n",
    "for  symbol in company:\n",
    "    ticker.append(get_symbol(symbol))"
   ]
  },
  {
   "cell_type": "code",
   "execution_count": 7,
   "metadata": {
    "collapsed": true
   },
   "outputs": [],
   "source": [
    "ticker_df = pd.DataFrame(ticker)\n",
    "new_data = breaches.assign(Symbol = ticker)"
   ]
  },
  {
   "cell_type": "code",
   "execution_count": 8,
   "metadata": {
    "collapsed": true
   },
   "outputs": [],
   "source": [
    "data_breach = new_data.dropna(axis=0,how='any')"
   ]
  },
  {
   "cell_type": "code",
   "execution_count": 9,
   "metadata": {
    "collapsed": true
   },
   "outputs": [],
   "source": [
    "new_data.to_csv('Lab3_with_ticker.csv')"
   ]
  },
  {
   "cell_type": "code",
   "execution_count": 10,
   "metadata": {
    "collapsed": false
   },
   "outputs": [
    {
     "name": "stderr",
     "output_type": "stream",
     "text": [
      "/Users/garimajain/anaconda/lib/python2.7/site-packages/pandas_datareader/yahoo/daily.py:136: SymbolWarning: Failed to read symbol: u'AOL', replacing with NaN.\n",
      "  warnings.warn(msg.format(sym), SymbolWarning)\n",
      "/Users/garimajain/anaconda/lib/python2.7/site-packages/pandas_datareader/yahoo/daily.py:136: SymbolWarning: Failed to read symbol: None, replacing with NaN.\n",
      "  warnings.warn(msg.format(sym), SymbolWarning)\n",
      "/Users/garimajain/anaconda/lib/python2.7/site-packages/pandas_datareader/yahoo/daily.py:136: SymbolWarning: Failed to read symbol: u'CIT-U.TI', replacing with NaN.\n",
      "  warnings.warn(msg.format(sym), SymbolWarning)\n",
      "/Users/garimajain/anaconda/lib/python2.7/site-packages/pandas_datareader/yahoo/daily.py:136: SymbolWarning: Failed to read symbol: u'^UMIAMIFL', replacing with NaN.\n",
      "  warnings.warn(msg.format(sym), SymbolWarning)\n",
      "/Users/garimajain/anaconda/lib/python2.7/site-packages/pandas_datareader/yahoo/daily.py:136: SymbolWarning: Failed to read symbol: u'JPM-PB', replacing with NaN.\n",
      "  warnings.warn(msg.format(sym), SymbolWarning)\n",
      "/Users/garimajain/anaconda/lib/python2.7/site-packages/pandas_datareader/yahoo/daily.py:136: SymbolWarning: Failed to read symbol: u'SAND-P.V', replacing with NaN.\n",
      "  warnings.warn(msg.format(sym), SymbolWarning)\n",
      "/Users/garimajain/anaconda/lib/python2.7/site-packages/pandas_datareader/yahoo/daily.py:136: SymbolWarning: Failed to read symbol: u'KCT.V', replacing with NaN.\n",
      "  warnings.warn(msg.format(sym), SymbolWarning)\n",
      "/Users/garimajain/anaconda/lib/python2.7/site-packages/pandas_datareader/yahoo/daily.py:136: SymbolWarning: Failed to read symbol: u'LNKD', replacing with NaN.\n",
      "  warnings.warn(msg.format(sym), SymbolWarning)\n",
      "/Users/garimajain/anaconda/lib/python2.7/site-packages/pandas_datareader/yahoo/daily.py:136: SymbolWarning: Failed to read symbol: u'NMBS.KL', replacing with NaN.\n",
      "  warnings.warn(msg.format(sym), SymbolWarning)\n",
      "/Users/garimajain/anaconda/lib/python2.7/site-packages/pandas_datareader/yahoo/daily.py:136: SymbolWarning: Failed to read symbol: u'CPWFF8.EX', replacing with NaN.\n",
      "  warnings.warn(msg.format(sym), SymbolWarning)\n",
      "/Users/garimajain/anaconda/lib/python2.7/site-packages/pandas_datareader/yahoo/daily.py:136: SymbolWarning: Failed to read symbol: u'FLINGX', replacing with NaN.\n",
      "  warnings.warn(msg.format(sym), SymbolWarning)\n",
      "/Users/garimajain/anaconda/lib/python2.7/site-packages/pandas_datareader/yahoo/daily.py:136: SymbolWarning: Failed to read symbol: u'536128.BO', replacing with NaN.\n",
      "  warnings.warn(msg.format(sym), SymbolWarning)\n",
      "/Users/garimajain/anaconda/lib/python2.7/site-packages/pandas_datareader/yahoo/daily.py:136: SymbolWarning: Failed to read symbol: u'539399.BO', replacing with NaN.\n",
      "  warnings.warn(msg.format(sym), SymbolWarning)\n"
     ]
    }
   ],
   "source": [
    "start_date = dt.datetime(2004,1,1)\n",
    "end_date = dt.datetime(2017,6,6)\n",
    "data_source = 'yahoo'\n",
    "panel_data = pdr.DataReader(ticker, data_source, start_date, end_date)"
   ]
  },
  {
   "cell_type": "code",
   "execution_count": 11,
   "metadata": {
    "collapsed": false
   },
   "outputs": [
    {
     "data": {
      "text/plain": [
       "<class 'pandas.core.panel.Panel'>\n",
       "Dimensions: 6 (items) x 3669 (major_axis) x 64 (minor_axis)\n",
       "Items axis: Adj Close to Volume\n",
       "Major_axis axis: 2004-01-01 00:00:00 to 2017-06-07 00:00:00\n",
       "Minor_axis axis: None to ^UMIAMIFL"
      ]
     },
     "execution_count": 11,
     "metadata": {},
     "output_type": "execute_result"
    }
   ],
   "source": [
    "panel_data"
   ]
  },
  {
   "cell_type": "code",
   "execution_count": 12,
   "metadata": {
    "collapsed": true
   },
   "outputs": [],
   "source": [
    "close = panel_data.ix['Close']"
   ]
  },
  {
   "cell_type": "code",
   "execution_count": 13,
   "metadata": {
    "collapsed": true
   },
   "outputs": [],
   "source": [
    "all_weekdays = pd.date_range(start=start_date, end=end_date, freq='B')"
   ]
  },
  {
   "cell_type": "code",
   "execution_count": 14,
   "metadata": {
    "collapsed": true
   },
   "outputs": [],
   "source": [
    "close = close.reindex(all_weekdays)"
   ]
  },
  {
   "cell_type": "code",
   "execution_count": 15,
   "metadata": {
    "collapsed": true
   },
   "outputs": [],
   "source": [
    "revised_data = close.dropna(axis=1,how='all')"
   ]
  },
  {
   "cell_type": "code",
   "execution_count": 16,
   "metadata": {
    "collapsed": true
   },
   "outputs": [],
   "source": [
    "avg_by_week = revised_data.groupby(pd.TimeGrouper(freq='1W')).mean()"
   ]
  },
  {
   "cell_type": "code",
   "execution_count": 22,
   "metadata": {
    "collapsed": false
   },
   "outputs": [
    {
     "data": {
      "text/html": [
       "<div>\n",
       "<table border=\"1\" class=\"dataframe\">\n",
       "  <thead>\n",
       "    <tr style=\"text-align: right;\">\n",
       "      <th></th>\n",
       "      <th>108790.KQ</th>\n",
       "      <th>600488.SS</th>\n",
       "      <th>AABA</th>\n",
       "      <th>AAPL</th>\n",
       "      <th>ADBE</th>\n",
       "      <th>ADP</th>\n",
       "      <th>AMTD</th>\n",
       "      <th>ANTM</th>\n",
       "      <th>AT</th>\n",
       "      <th>ATGYX</th>\n",
       "      <th>...</th>\n",
       "      <th>TALK.L</th>\n",
       "      <th>TER.AX</th>\n",
       "      <th>TGT</th>\n",
       "      <th>TWTR</th>\n",
       "      <th>UBI.PA</th>\n",
       "      <th>UPS</th>\n",
       "      <th>VOD</th>\n",
       "      <th>VTKLF</th>\n",
       "      <th>YAHOY</th>\n",
       "      <th>^CEX</th>\n",
       "    </tr>\n",
       "  </thead>\n",
       "  <tbody>\n",
       "    <tr>\n",
       "      <th>2004-01-04</th>\n",
       "      <td>NaN</td>\n",
       "      <td>1.893455</td>\n",
       "      <td>22.700001</td>\n",
       "      <td>1.520000</td>\n",
       "      <td>19.549999</td>\n",
       "      <td>31.690842</td>\n",
       "      <td>14.1500</td>\n",
       "      <td>38.139999</td>\n",
       "      <td>NaN</td>\n",
       "      <td>25.430000</td>\n",
       "      <td>...</td>\n",
       "      <td>NaN</td>\n",
       "      <td>NaN</td>\n",
       "      <td>37.720001</td>\n",
       "      <td>NaN</td>\n",
       "      <td>5.60125</td>\n",
       "      <td>73.650002</td>\n",
       "      <td>29.485947</td>\n",
       "      <td>NaN</td>\n",
       "      <td>NaN</td>\n",
       "      <td>197.270004</td>\n",
       "    </tr>\n",
       "    <tr>\n",
       "      <th>2004-01-11</th>\n",
       "      <td>NaN</td>\n",
       "      <td>1.940418</td>\n",
       "      <td>23.851000</td>\n",
       "      <td>1.617285</td>\n",
       "      <td>19.420000</td>\n",
       "      <td>32.594934</td>\n",
       "      <td>14.9300</td>\n",
       "      <td>37.010000</td>\n",
       "      <td>NaN</td>\n",
       "      <td>25.622000</td>\n",
       "      <td>...</td>\n",
       "      <td>NaN</td>\n",
       "      <td>NaN</td>\n",
       "      <td>37.810000</td>\n",
       "      <td>NaN</td>\n",
       "      <td>5.72250</td>\n",
       "      <td>73.033999</td>\n",
       "      <td>31.284696</td>\n",
       "      <td>NaN</td>\n",
       "      <td>NaN</td>\n",
       "      <td>198.176001</td>\n",
       "    </tr>\n",
       "    <tr>\n",
       "      <th>2004-01-18</th>\n",
       "      <td>NaN</td>\n",
       "      <td>2.144392</td>\n",
       "      <td>24.313000</td>\n",
       "      <td>1.680286</td>\n",
       "      <td>18.845000</td>\n",
       "      <td>32.285639</td>\n",
       "      <td>15.2100</td>\n",
       "      <td>37.772999</td>\n",
       "      <td>NaN</td>\n",
       "      <td>25.774000</td>\n",
       "      <td>...</td>\n",
       "      <td>NaN</td>\n",
       "      <td>NaN</td>\n",
       "      <td>38.428000</td>\n",
       "      <td>NaN</td>\n",
       "      <td>5.59750</td>\n",
       "      <td>72.386000</td>\n",
       "      <td>31.648172</td>\n",
       "      <td>NaN</td>\n",
       "      <td>NaN</td>\n",
       "      <td>196.204004</td>\n",
       "    </tr>\n",
       "    <tr>\n",
       "      <th>2004-01-25</th>\n",
       "      <td>NaN</td>\n",
       "      <td>2.246380</td>\n",
       "      <td>23.663750</td>\n",
       "      <td>1.608572</td>\n",
       "      <td>19.033750</td>\n",
       "      <td>32.904229</td>\n",
       "      <td>16.7025</td>\n",
       "      <td>39.487499</td>\n",
       "      <td>NaN</td>\n",
       "      <td>26.210001</td>\n",
       "      <td>...</td>\n",
       "      <td>NaN</td>\n",
       "      <td>NaN</td>\n",
       "      <td>38.394999</td>\n",
       "      <td>NaN</td>\n",
       "      <td>5.56150</td>\n",
       "      <td>72.252500</td>\n",
       "      <td>31.457696</td>\n",
       "      <td>NaN</td>\n",
       "      <td>NaN</td>\n",
       "      <td>192.407497</td>\n",
       "    </tr>\n",
       "    <tr>\n",
       "      <th>2004-02-01</th>\n",
       "      <td>NaN</td>\n",
       "      <td>2.256040</td>\n",
       "      <td>23.446000</td>\n",
       "      <td>1.626286</td>\n",
       "      <td>18.700000</td>\n",
       "      <td>33.713154</td>\n",
       "      <td>16.1560</td>\n",
       "      <td>40.113000</td>\n",
       "      <td>NaN</td>\n",
       "      <td>26.028000</td>\n",
       "      <td>...</td>\n",
       "      <td>NaN</td>\n",
       "      <td>NaN</td>\n",
       "      <td>38.150000</td>\n",
       "      <td>NaN</td>\n",
       "      <td>5.15700</td>\n",
       "      <td>72.414000</td>\n",
       "      <td>30.129023</td>\n",
       "      <td>NaN</td>\n",
       "      <td>NaN</td>\n",
       "      <td>191.584002</td>\n",
       "    </tr>\n",
       "  </tbody>\n",
       "</table>\n",
       "<p>5 rows × 51 columns</p>\n",
       "</div>"
      ],
      "text/plain": [
       "            108790.KQ  600488.SS       AABA      AAPL       ADBE        ADP  \\\n",
       "2004-01-04        NaN   1.893455  22.700001  1.520000  19.549999  31.690842   \n",
       "2004-01-11        NaN   1.940418  23.851000  1.617285  19.420000  32.594934   \n",
       "2004-01-18        NaN   2.144392  24.313000  1.680286  18.845000  32.285639   \n",
       "2004-01-25        NaN   2.246380  23.663750  1.608572  19.033750  32.904229   \n",
       "2004-02-01        NaN   2.256040  23.446000  1.626286  18.700000  33.713154   \n",
       "\n",
       "               AMTD       ANTM  AT      ATGYX     ...      TALK.L  TER.AX  \\\n",
       "2004-01-04  14.1500  38.139999 NaN  25.430000     ...         NaN     NaN   \n",
       "2004-01-11  14.9300  37.010000 NaN  25.622000     ...         NaN     NaN   \n",
       "2004-01-18  15.2100  37.772999 NaN  25.774000     ...         NaN     NaN   \n",
       "2004-01-25  16.7025  39.487499 NaN  26.210001     ...         NaN     NaN   \n",
       "2004-02-01  16.1560  40.113000 NaN  26.028000     ...         NaN     NaN   \n",
       "\n",
       "                  TGT  TWTR   UBI.PA        UPS        VOD  VTKLF  YAHOY  \\\n",
       "2004-01-04  37.720001   NaN  5.60125  73.650002  29.485947    NaN    NaN   \n",
       "2004-01-11  37.810000   NaN  5.72250  73.033999  31.284696    NaN    NaN   \n",
       "2004-01-18  38.428000   NaN  5.59750  72.386000  31.648172    NaN    NaN   \n",
       "2004-01-25  38.394999   NaN  5.56150  72.252500  31.457696    NaN    NaN   \n",
       "2004-02-01  38.150000   NaN  5.15700  72.414000  30.129023    NaN    NaN   \n",
       "\n",
       "                  ^CEX  \n",
       "2004-01-04  197.270004  \n",
       "2004-01-11  198.176001  \n",
       "2004-01-18  196.204004  \n",
       "2004-01-25  192.407497  \n",
       "2004-02-01  191.584002  \n",
       "\n",
       "[5 rows x 51 columns]"
      ]
     },
     "execution_count": 22,
     "metadata": {},
     "output_type": "execute_result"
    }
   ],
   "source": [
    "avg_by_week.head()"
   ]
  },
  {
   "cell_type": "code",
   "execution_count": 23,
   "metadata": {
    "collapsed": true
   },
   "outputs": [],
   "source": [
    "data_rearrangemet = avg_by_week.T"
   ]
  },
  {
   "cell_type": "code",
   "execution_count": 25,
   "metadata": {
    "collapsed": true
   },
   "outputs": [],
   "source": [
    "#created a dataframe for de-normalized data about Ticker symbol, date and corresponding stock price\n",
    "final_data = pd.DataFrame(columns=['Symbol','Date','Price'])\n",
    "d =0\n",
    "for i in range(len(data_rearrangemet)) : \n",
    "    ts = data_rearrangemet.index[i]\n",
    "    for j in range(len(data_rearrangemet.iloc[i])): \n",
    "        timet = pd.to_datetime(str(data_rearrangemet.columns.values[j]))\n",
    "        date = timet.strftime('%Y-%m-%d')\n",
    "        final_data.loc[d]=( ts,  date , data_rearrangemet.iloc[i][j])\n",
    "        d=d+1"
   ]
  },
  {
   "cell_type": "code",
   "execution_count": null,
   "metadata": {
    "collapsed": true
   },
   "outputs": [],
   "source": []
  }
 ],
 "metadata": {
  "kernelspec": {
   "display_name": "Python 2",
   "language": "python",
   "name": "python2"
  },
  "language_info": {
   "codemirror_mode": {
    "name": "ipython",
    "version": 2
   },
   "file_extension": ".py",
   "mimetype": "text/x-python",
   "name": "python",
   "nbconvert_exporter": "python",
   "pygments_lexer": "ipython2",
   "version": "2.7.13"
  }
 },
 "nbformat": 4,
 "nbformat_minor": 2
}
